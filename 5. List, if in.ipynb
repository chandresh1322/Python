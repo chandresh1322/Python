{
 "cells": [
  {
   "cell_type": "code",
   "execution_count": null,
   "metadata": {},
   "outputs": [],
   "source": [
    "#List: created using square brackets with commas separating items."
   ]
  },
  {
   "cell_type": "code",
   "execution_count": 1,
   "metadata": {},
   "outputs": [
    {
     "name": "stdout",
     "output_type": "stream",
     "text": [
      "Hello\n",
      "word\n",
      "!\n"
     ]
    }
   ],
   "source": [
    "words = [\"Hello\" ,\"word\" , \"!\"]\n",
    "print(words [0])\n",
    "print(words [1])\n",
    "print(words [2])"
   ]
  },
  {
   "cell_type": "code",
   "execution_count": null,
   "metadata": {},
   "outputs": [],
   "source": [
    "Note: index starts with 0, 1 , 2, 3..."
   ]
  },
  {
   "cell_type": "code",
   "execution_count": 2,
   "metadata": {},
   "outputs": [
    {
     "name": "stdout",
     "output_type": "stream",
     "text": [
      "4\n"
     ]
    }
   ],
   "source": [
    "nums = [5, 4, 3, 2, 1]\n",
    "print(nums[1])"
   ]
  },
  {
   "cell_type": "code",
   "execution_count": null,
   "metadata": {},
   "outputs": [],
   "source": [
    "#Lists can also be nested within other lists. \n",
    "#brackets in between apprentice is count as another list. "
   ]
  },
  {
   "cell_type": "code",
   "execution_count": 3,
   "metadata": {},
   "outputs": [
    {
     "name": "stdout",
     "output_type": "stream",
     "text": [
      "0\n",
      "[1, 2, 3]\n",
      "3\n"
     ]
    }
   ],
   "source": [
    "number = 3\n",
    "things = [\"string\", 0, [1, 2, number], 4.56]\n",
    "print(things[1])\n",
    "print(things[2])\n",
    "print(things[2][2])"
   ]
  },
  {
   "cell_type": "code",
   "execution_count": 6,
   "metadata": {},
   "outputs": [
    {
     "name": "stdout",
     "output_type": "stream",
     "text": [
      "H\n",
      "e\n",
      "l\n",
      "l\n",
      "o\n",
      " \n",
      "w\n"
     ]
    }
   ],
   "source": [
    "str = \"Hello world!\"\n",
    "print(str[0])\n",
    "print(str[1])\n",
    "print(str[2])\n",
    "print(str[3])\n",
    "print(str[4])\n",
    "print(str[5])\n",
    "print(str[6])"
   ]
  },
  {
   "cell_type": "code",
   "execution_count": null,
   "metadata": {},
   "outputs": [],
   "source": [
    "# Space also count as an index so here pace index is [5]"
   ]
  },
  {
   "cell_type": "code",
   "execution_count": null,
   "metadata": {},
   "outputs": [],
   "source": [
    "Which line of code will cause an error?\n",
    "num = [5, 4, 3, [2], 1]\n",
    "print(num[0])\n",
    "print(num[3][0])\n",
    "print(num[5])"
   ]
  },
  {
   "cell_type": "code",
   "execution_count": null,
   "metadata": {},
   "outputs": [],
   "source": [
    "Ans.\n",
    "lists:\n",
    "[5, 4, 3,[2], 1]\n",
    " 0  1  2  3   4\n",
    "\n",
    "[2] is also a list so its considered as ([3][0])\n",
    "\n",
    "\n",
    "num = [5, 4, 3,[2], 1]\n",
    "print(num[0]) == 5\n",
    "print(num[1]) == 4\n",
    "print(num[2]) == 3\n",
    "print(num[3]) == [2]\n",
    "print(num[4]) == 1\n",
    "print(num[5]) == does not exist"
   ]
  },
  {
   "cell_type": "code",
   "execution_count": null,
   "metadata": {},
   "outputs": [],
   "source": [
    "#The item at a certain index in a list can be reassigned."
   ]
  },
  {
   "cell_type": "code",
   "execution_count": 8,
   "metadata": {},
   "outputs": [
    {
     "name": "stdout",
     "output_type": "stream",
     "text": [
      "[7, 7, 5, 7, 7]\n"
     ]
    }
   ],
   "source": [
    "nums = [7, 7, 7, 7, 7]\n",
    "nums[2] = 5\n",
    "print(nums)"
   ]
  },
  {
   "cell_type": "code",
   "execution_count": 10,
   "metadata": {},
   "outputs": [
    {
     "name": "stdout",
     "output_type": "stream",
     "text": [
      "2\n"
     ]
    }
   ],
   "source": [
    "nums = [1, 2, 3, 4, 5]\n",
    "nums[3] = nums[1]\n",
    "print(nums[3])"
   ]
  },
  {
   "cell_type": "code",
   "execution_count": 15,
   "metadata": {},
   "outputs": [
    {
     "name": "stdout",
     "output_type": "stream",
     "text": [
      "[1, 2, 3, 4, 5, 6]\n"
     ]
    }
   ],
   "source": [
    "nums = [1, 2, 3]\n",
    "print(nums + [4, 5, 6])\n"
   ]
  },
  {
   "cell_type": "code",
   "execution_count": 13,
   "metadata": {},
   "outputs": [
    {
     "name": "stdout",
     "output_type": "stream",
     "text": [
      "[1, 2, 3, 1, 2, 3, 1, 2, 3]\n"
     ]
    }
   ],
   "source": [
    "print(nums * 3)"
   ]
  },
  {
   "cell_type": "code",
   "execution_count": null,
   "metadata": {},
   "outputs": [],
   "source": [
    "#in:\n",
    "To check if an item is in a list, the in operator can be used.\n",
    "It returns True if the item occurs one or more times in the list,\n",
    "and False if it doesn't."
   ]
  },
  {
   "cell_type": "code",
   "execution_count": 21,
   "metadata": {},
   "outputs": [
    {
     "name": "stdout",
     "output_type": "stream",
     "text": [
      "True\n",
      "True\n",
      "False\n"
     ]
    }
   ],
   "source": [
    "names = [\"chan\", \"wen\", \"chando\", \"mando\"]\n",
    "print(\"chan\" in names)\n",
    "print(\"chando\" in names)\n",
    "print(\"tomato\" in names)"
   ]
  },
  {
   "cell_type": "code",
   "execution_count": 25,
   "metadata": {},
   "outputs": [
    {
     "name": "stdout",
     "output_type": "stream",
     "text": [
      "What name do you guess? tomato\n",
      "tomato\n",
      "wrong\n"
     ]
    }
   ],
   "source": [
    "names = [\"chan\", \"wen\", \"chando\", \"mando\"]\n",
    "guess = input(\"What name do you guess? \")\n",
    "print(guess)\n",
    "\n",
    "if(guess in names) == True:\n",
    "    print('right')\n",
    "else:\n",
    "    print('wrong')"
   ]
  },
  {
   "cell_type": "code",
   "execution_count": 26,
   "metadata": {},
   "outputs": [
    {
     "name": "stdout",
     "output_type": "stream",
     "text": [
      "False\n",
      "True\n"
     ]
    }
   ],
   "source": [
    "x = [\"eggs\", \" spam\"]\n",
    "print(\"spam\" in x)\n",
    "print(\"spam\" in x[1])"
   ]
  },
  {
   "cell_type": "code",
   "execution_count": 27,
   "metadata": {},
   "outputs": [
    {
     "name": "stdout",
     "output_type": "stream",
     "text": [
      "7\n"
     ]
    }
   ],
   "source": [
    "nums = [10, 9, 8, 7, 6, 5]\n",
    "nums[0] = nums[1] - 5\n",
    "if 4 in nums:\n",
    "  print(nums[3])\n",
    "else:\n",
    "  print(nums[4])"
   ]
  },
  {
   "cell_type": "code",
   "execution_count": null,
   "metadata": {},
   "outputs": [],
   "source": [
    "#To check if an item is not in a list, you can use the not operator."
   ]
  },
  {
   "cell_type": "code",
   "execution_count": 28,
   "metadata": {},
   "outputs": [
    {
     "name": "stdout",
     "output_type": "stream",
     "text": [
      "True\n",
      "True\n",
      "False\n",
      "False\n"
     ]
    }
   ],
   "source": [
    "nums = [1, 2, 3]\n",
    "print(not 4 in nums)\n",
    "print(4 not in nums)\n",
    "print(not 3 in nums)\n",
    "print(3 not in nums)"
   ]
  },
  {
   "cell_type": "code",
   "execution_count": 31,
   "metadata": {},
   "outputs": [
    {
     "name": "stdout",
     "output_type": "stream",
     "text": [
      "Yes\n"
     ]
    }
   ],
   "source": [
    "letters = ['a', 'b', 'z']\n",
    "if \"z\" in letters:\n",
    " print(\"Yes\")"
   ]
  }
 ],
 "metadata": {
  "kernelspec": {
   "display_name": "Python 3",
   "language": "python",
   "name": "python3"
  },
  "language_info": {
   "codemirror_mode": {
    "name": "ipython",
    "version": 3
   },
   "file_extension": ".py",
   "mimetype": "text/x-python",
   "name": "python",
   "nbconvert_exporter": "python",
   "pygments_lexer": "ipython3",
   "version": "3.7.6"
  }
 },
 "nbformat": 4,
 "nbformat_minor": 4
}
