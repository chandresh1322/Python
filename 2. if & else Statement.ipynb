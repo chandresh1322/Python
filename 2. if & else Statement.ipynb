{
 "cells": [
  {
   "cell_type": "code",
   "execution_count": null,
   "metadata": {},
   "outputs": [],
   "source": [
    "#if:  If an expression evaluates to True, \n",
    "    some statements are carried out.Otherwise,they aren't carried out."
   ]
  },
  {
   "cell_type": "code",
   "execution_count": null,
   "metadata": {},
   "outputs": [],
   "source": []
  },
  {
   "cell_type": "code",
   "execution_count": 2,
   "metadata": {},
   "outputs": [
    {
     "name": "stdout",
     "output_type": "stream",
     "text": [
      "True\n",
      "False\n"
     ]
    }
   ],
   "source": [
    "if 1 == 1:\n",
    "    print(\"True\")\n",
    "    if 1 !=2:\n",
    "        print(\"False\")"
   ]
  },
  {
   "cell_type": "code",
   "execution_count": null,
   "metadata": {},
   "outputs": [],
   "source": [
    "Note: \"Use 4 space at the beginning and then print(), after every\n",
    "     if intendation."
   ]
  },
  {
   "cell_type": "code",
   "execution_count": null,
   "metadata": {},
   "outputs": [],
   "source": [
    "Note: Always put colon at the end of the if statement."
   ]
  },
  {
   "cell_type": "code",
   "execution_count": 3,
   "metadata": {},
   "outputs": [
    {
     "name": "stdout",
     "output_type": "stream",
     "text": [
      "10 is greater than 5\n",
      "program ended\n"
     ]
    }
   ],
   "source": [
    "if 10 > 5:\n",
    "    print(\"10 is greater than 5\")\n",
    "    \n",
    "print(\"program ended\")    "
   ]
  },
  {
   "cell_type": "code",
   "execution_count": 6,
   "metadata": {},
   "outputs": [
    {
     "name": "stdout",
     "output_type": "stream",
     "text": [
      "Bigger than 5\n",
      "Between 5 and 10\n"
     ]
    }
   ],
   "source": [
    "num = 7\n",
    "if num > 5:\n",
    "   print(\"Bigger than 5\")\n",
    "if num <= 8:\n",
    "   print(\"Between 5 and 10\")"
   ]
  },
  {
   "cell_type": "code",
   "execution_count": 7,
   "metadata": {},
   "outputs": [
    {
     "name": "stdout",
     "output_type": "stream",
     "text": [
      "3\n"
     ]
    }
   ],
   "source": [
    "num = 7\n",
    "if num > 3:\n",
    "   print(\"3\")\n",
    "   if num < 5:\n",
    "      print(\"5\")\n",
    "      if num ==7:\n",
    "         print(\"7\")"
   ]
  },
  {
   "cell_type": "code",
   "execution_count": null,
   "metadata": {},
   "outputs": [],
   "source": [
    "Since the first statement is correct, it continues to the next if. \n",
    "Since the 2nd if is false, \n",
    "the following if statements which are nested within are ignored. \n",
    "This means python will not read the 7 at all."
   ]
  },
  {
   "cell_type": "code",
   "execution_count": null,
   "metadata": {},
   "outputs": [],
   "source": [
    "#else statement: else statement follows an if statement,\n",
    "& contains code that is called when the if statement evaluates to False."
   ]
  },
  {
   "cell_type": "code",
   "execution_count": 21,
   "metadata": {},
   "outputs": [
    {
     "name": "stdout",
     "output_type": "stream",
     "text": [
      "ok\n",
      "nice\n"
     ]
    }
   ],
   "source": [
    "if 1 + 1 == 2:\n",
    "    print(\"ok\")\n",
    "if 2 * 2 == 8:\n",
    " print(\"not ok\")\n",
    "else:\n",
    " print(\"nice\")"
   ]
  },
  {
   "cell_type": "code",
   "execution_count": 85,
   "metadata": {},
   "outputs": [
    {
     "name": "stdout",
     "output_type": "stream",
     "text": [
      "Number is 7\n"
     ]
    }
   ],
   "source": [
    "num = 7\n",
    "if num == 5:\n",
    "    print(\"number is 5\")\n",
    "else:\n",
    "    if num == 11:\n",
    "     print(\"Number is 11\")\n",
    "    else:\n",
    "        if num == 7:\n",
    "         print(\"Number is 7\")\n",
    "        else:\n",
    "           print(\"Number isn't 5, 11, or 7\")\n",
    "    \n",
    "    "
   ]
  },
  {
   "cell_type": "code",
   "execution_count": null,
   "metadata": {},
   "outputs": [],
   "source": [
    "Note: careful with blank space:\n",
    "        else:\n",
    "            if\n",
    "            else:\n",
    "                if:\n",
    "blank space of print mustbe 4 then 8 then 12 then add on by 4 spaces.  \n",
    "            \n",
    "        "
   ]
  },
  {
   "cell_type": "code",
   "execution_count": 93,
   "metadata": {},
   "outputs": [
    {
     "name": "stdout",
     "output_type": "stream",
     "text": [
      "This is correct\n"
     ]
    }
   ],
   "source": [
    "num = 7\n",
    "if num == 5:\n",
    "    print(\"Nuber is 5\")\n",
    "elif num == 11:\n",
    "      print(\"Number is 11\")\n",
    "elif num == 7:\n",
    "          print(\"This is correct\")\n",
    "else:\n",
    "            print(\"Number isn't 5, 11, or 7\")\n",
    "        "
   ]
  },
  {
   "cell_type": "code",
   "execution_count": null,
   "metadata": {},
   "outputs": [],
   "source": []
  }
 ],
 "metadata": {
  "kernelspec": {
   "display_name": "Python 3",
   "language": "python",
   "name": "python3"
  },
  "language_info": {
   "codemirror_mode": {
    "name": "ipython",
    "version": 3
   },
   "file_extension": ".py",
   "mimetype": "text/x-python",
   "name": "python",
   "nbconvert_exporter": "python",
   "pygments_lexer": "ipython3",
   "version": "3.7.6"
  }
 },
 "nbformat": 4,
 "nbformat_minor": 4
}
