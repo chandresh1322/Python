{
 "cells": [
  {
   "cell_type": "code",
   "execution_count": null,
   "metadata": {},
   "outputs": [],
   "source": [
    "#simple calculator using while and if loop\n",
    "\n",
    "print(\"Welcome to CALCULATOR\")\n",
    "\n",
    "while True:\n",
    "    print(\"Please select an operator:(+, -, *, /)\\nEnter q to quit.\")\n",
    "    user_input = input(\":\")\n",
    "    if user_input == \"q\":\n",
    "        print(\"Program Ended. Bye Bye\")\n",
    "        break\n",
    " \n",
    "    elif user_input == \"+\":\n",
    "        \n",
    "        number1 = float(input(\"Enter a number:\"))\n",
    "        number2 = float(input(\"Enter another number:\"))\n",
    "        result = number1 + number2\n",
    "        print(\"The answer is:\", result)\n",
    "        \n",
    "    elif user_input == \"-\":\n",
    "        \n",
    "        number1 = float(input(\"Enter a number:\"))\n",
    "        number2 = float(input(\"Enter another number:\"))\n",
    "        result = number1 - number2\n",
    "        print(\"The answer is:\", result)   \n",
    "\n",
    "    elif user_input == \"*\":\n",
    "        \n",
    "        number1 = float(input(\"Enter a number:\"))\n",
    "        number2 = float(input(\"Enter another number:\"))\n",
    "        result = number1 * number2\n",
    "        print(\"The answer is:\", result)\n",
    "        \n",
    "    elif user_input == \"/\":\n",
    "        \n",
    "        number1 = float(input(\"Enter a number:\"))\n",
    "        number2 = float(input(\"Enter another number:\"))\n",
    "        result = number1 / number2\n",
    "        print(\"The answer is:\", result)\n",
    "        \n",
    "    else:\n",
    "        \n",
    "        print(\"Invalid input.Try again\")\n",
    "        "
   ]
  },
  {
   "cell_type": "code",
   "execution_count": null,
   "metadata": {},
   "outputs": [],
   "source": []
  }
 ],
 "metadata": {
  "kernelspec": {
   "display_name": "Python 3",
   "language": "python",
   "name": "python3"
  },
  "language_info": {
   "codemirror_mode": {
    "name": "ipython",
    "version": 3
   },
   "file_extension": ".py",
   "mimetype": "text/x-python",
   "name": "python",
   "nbconvert_exporter": "python",
   "pygments_lexer": "ipython3",
   "version": "3.7.6"
  }
 },
 "nbformat": 4,
 "nbformat_minor": 4
}
