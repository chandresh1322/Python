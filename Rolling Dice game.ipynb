{
 "cells": [
  {
   "cell_type": "code",
   "execution_count": null,
   "metadata": {},
   "outputs": [
    {
     "name": "stdout",
     "output_type": "stream",
     "text": [
      "Lets Roll Dice\n",
      "Enter p to play or q to quit\n",
      ":p\n",
      "Dice ROlling...\n",
      "You Got: [3]\n",
      "Enter p to play or q to quit\n"
     ]
    }
   ],
   "source": [
    "#Rolling Dice Game\n",
    "\n",
    "import random\n",
    "import time\n",
    "\n",
    "minimum = 1\n",
    "maximum = 6\n",
    "\n",
    "print(\"Lets Roll Dice\")\n",
    "\n",
    "while True:\n",
    "    print(\"Enter p to play or q to quit\")\n",
    "    user_input = input(\":\")\n",
    "    if user_input == \"q\":\n",
    "        print(\"Game Ended. Bye Bye\")\n",
    "        break\n",
    "        \n",
    "    elif user_input == \"p\":\n",
    "        print(\"Dice ROlling...\")\n",
    "        time.sleep(random.randint(1,3))\n",
    "        result = random.randint(minimum,maximum)\n",
    "        print(\"You Got:\",[result])\n",
    "        \n",
    "    else:\n",
    "        print(\"***Invalid input. Please try again***\")"
   ]
  },
  {
   "cell_type": "code",
   "execution_count": null,
   "metadata": {},
   "outputs": [],
   "source": []
  }
 ],
 "metadata": {
  "kernelspec": {
   "display_name": "Python 3",
   "language": "python",
   "name": "python3"
  },
  "language_info": {
   "codemirror_mode": {
    "name": "ipython",
    "version": 3
   },
   "file_extension": ".py",
   "mimetype": "text/x-python",
   "name": "python",
   "nbconvert_exporter": "python",
   "pygments_lexer": "ipython3",
   "version": "3.7.6"
  }
 },
 "nbformat": 4,
 "nbformat_minor": 4
}
